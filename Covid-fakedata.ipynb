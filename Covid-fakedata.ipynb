{
  "cells": [
    {
      "metadata": {
        "collapsed": true
      },
      "cell_type": "markdown",
      "source": [
        "# Tarea Covid\n",
        "\n",
        "Recrear, simular datos de la pandemia en Costa Rica, durante el año 2020, 365 reportes: un por cada día del año\n",
        "\n",
        "Consideraciones:\n",
        "Cada habitante de Costa Rica que puede vivir en cualquier lugar, sea:\n",
        "7 provincias\n",
        "82 cantones\n",
        "xxx distritos\n",
        "\n",
        "$ crear aleatoriamente reportes de datos de infección diarios que se requiere: \n",
        "\n",
        "crear un dataframe /reporte de nuevos contagios\n",
        "\n",
        "# cedula , provincia, canton, distrito, fecha resultado positivo, fecha resultado negativo , estado [subceptible, infectado, recuperado, fallecido]\n",
        "\n",
        "# se puede volver a contagiar : si . No se puede contagiar si está contagiodo\n",
        "# se puede fallecer : si\n",
        "\n",
        "Intregable:\n",
        "365 archivos del tipo CSV que representa el reporte diario de sólo datos actualizados (importante)\n",
        "\n",
        "\n",
        "descricion de de columnas: \n",
        "\n",
        "cedula: x-xxxx-xxxx\n",
        "provincia [san jose, alajuela, cartago, heredia, guanacaste, puntarenas, limon]\n",
        "cantones: los 82\n",
        "distritos: los reales (todos los que hay)\n",
        "fechas: año-mes-dia\n",
        "estado: categorical [subceptible, infectado, recuperado, fallecido]\n",
        "\n",
        "cantidas de datos:\n",
        "cantidad. aleatoria de personas. uniforme rango [0-1000]\n",
        "ubicacion. aleatorio. con sentido real (san jose. tibas, llorente)\n",
        "\n",
        "fecha de resultado negativo (número de días por curarse): 14 días. aleatorio normal seagado a la derecha en 14 días\n",
        "\n",
        "fallecer: distribución uniforme [si/no]\n"
      ]
    },
    {
      "cell_type": "code",
      "execution_count": 1,
      "metadata": {},
      "outputs": [],
      "source": [
        "import numpy as np\n",
        "import pandas as pd\n",
        "import matplotlib.pyplot as plt\n",
        "from datetime import date, timedelta"
      ]
    },
    {
      "metadata": {
        "trusted": true
      },
      "cell_type": "code",
      "source": [
        "## Origen de datos: TSE\n",
        "#location = pd.read_csv('data/Distelec.txt', header=None engine = 'python-fwf')\n",
        "location = pd.read_csv('data/Distelec.txt', header=None, encoding='ISO8859-1')\n",
        "#converters={3: str.lstrip}\n",
        "location.columns = ['ID_UBICACION', 'PROVINCIA', 'DISTRITO', 'CANTON']\n",
        "location.head()"
      ],
      "execution_count": 2,
      "outputs": [
        {
          "output_type": "execute_result",
          "data": {
            "text/plain": "   ID_UBICACION PROVINCIA DISTRITO  \\\n0        101001  SAN JOSE  CENTRAL   \n1        101002  SAN JOSE  CENTRAL   \n2        101003  SAN JOSE  CENTRAL   \n3        101004  SAN JOSE  CENTRAL   \n4        101005  SAN JOSE  CENTRAL   \n\n                                              CANTON  \n0  HOSPITAL                                      ...  \n1  ZAPOTE                                        ...  \n2  SAN FRANCISCO DE DOS RIOS                     ...  \n3  URUCA                                         ...  \n4  MATA REDONDA                                  ...  ",
            "text/html": "<div>\n<style scoped>\n    .dataframe tbody tr th:only-of-type {\n        vertical-align: middle;\n    }\n\n    .dataframe tbody tr th {\n        vertical-align: top;\n    }\n\n    .dataframe thead th {\n        text-align: right;\n    }\n</style>\n<table border=\"1\" class=\"dataframe\">\n  <thead>\n    <tr style=\"text-align: right;\">\n      <th></th>\n      <th>ID_UBICACION</th>\n      <th>PROVINCIA</th>\n      <th>DISTRITO</th>\n      <th>CANTON</th>\n    </tr>\n  </thead>\n  <tbody>\n    <tr>\n      <th>0</th>\n      <td>101001</td>\n      <td>SAN JOSE</td>\n      <td>CENTRAL</td>\n      <td>HOSPITAL                                      ...</td>\n    </tr>\n    <tr>\n      <th>1</th>\n      <td>101002</td>\n      <td>SAN JOSE</td>\n      <td>CENTRAL</td>\n      <td>ZAPOTE                                        ...</td>\n    </tr>\n    <tr>\n      <th>2</th>\n      <td>101003</td>\n      <td>SAN JOSE</td>\n      <td>CENTRAL</td>\n      <td>SAN FRANCISCO DE DOS RIOS                     ...</td>\n    </tr>\n    <tr>\n      <th>3</th>\n      <td>101004</td>\n      <td>SAN JOSE</td>\n      <td>CENTRAL</td>\n      <td>URUCA                                         ...</td>\n    </tr>\n    <tr>\n      <th>4</th>\n      <td>101005</td>\n      <td>SAN JOSE</td>\n      <td>CENTRAL</td>\n      <td>MATA REDONDA                                  ...</td>\n    </tr>\n  </tbody>\n</table>\n</div>"
          },
          "metadata": {},
          "execution_count": 2
        }
      ]
    },
    {
      "cell_type": "code",
      "execution_count": 3,
      "metadata": {},
      "outputs": [],
      "source": [
        "location['DISTRITO'] = location.loc[: , 'DISTRITO'].str.strip()"
      ]
    },
    {
      "cell_type": "code",
      "execution_count": 4,
      "metadata": {},
      "outputs": [
        {
          "output_type": "execute_result",
          "data": {
            "text/plain": "ID_UBICACION                                               101001\nPROVINCIA                                                SAN JOSE\nDISTRITO                                                  CENTRAL\nCANTON          HOSPITAL                                      ...\nName: 0, dtype: object"
          },
          "metadata": {},
          "execution_count": 4
        }
      ],
      "source": [
        "location.iloc[0]"
      ]
    },
    {
      "cell_type": "code",
      "execution_count": 5,
      "metadata": {},
      "outputs": [
        {
          "output_type": "execute_result",
          "data": {
            "text/plain": "      CEDULA  CODELEC  SEXO  FEC_VENCIMIENTO  JUNTA  \\\n0  100339724   109007     1         20231119      0   \n1  100842598   108001     2         20261024      0   \n2  100842638   301027     1         20220531      0   \n3  100964116   104022     1         20280207      0   \n4  100986470   205012     2         20220630      0   \n\n                           NOMBRE                1ER_APELLIDO  \\\n0  JOSE                            DELGADO                      \n1  CARMEN                          CORRALES                     \n2  RAFAEL                          AGUERO                       \n3  MANUEL                          DELGADO                      \n4  MARIA                           SALAS                        \n\n                 2DO_APELLIDO  \n0  CORRALES                    \n1  MORALES                     \n2  MORA                        \n3  GUZMAN                      \n4  CHAVARRIA                   ",
            "text/html": "<div>\n<style scoped>\n    .dataframe tbody tr th:only-of-type {\n        vertical-align: middle;\n    }\n\n    .dataframe tbody tr th {\n        vertical-align: top;\n    }\n\n    .dataframe thead th {\n        text-align: right;\n    }\n</style>\n<table border=\"1\" class=\"dataframe\">\n  <thead>\n    <tr style=\"text-align: right;\">\n      <th></th>\n      <th>CEDULA</th>\n      <th>CODELEC</th>\n      <th>SEXO</th>\n      <th>FEC_VENCIMIENTO</th>\n      <th>JUNTA</th>\n      <th>NOMBRE</th>\n      <th>1ER_APELLIDO</th>\n      <th>2DO_APELLIDO</th>\n    </tr>\n  </thead>\n  <tbody>\n    <tr>\n      <th>0</th>\n      <td>100339724</td>\n      <td>109007</td>\n      <td>1</td>\n      <td>20231119</td>\n      <td>0</td>\n      <td>JOSE</td>\n      <td>DELGADO</td>\n      <td>CORRALES</td>\n    </tr>\n    <tr>\n      <th>1</th>\n      <td>100842598</td>\n      <td>108001</td>\n      <td>2</td>\n      <td>20261024</td>\n      <td>0</td>\n      <td>CARMEN</td>\n      <td>CORRALES</td>\n      <td>MORALES</td>\n    </tr>\n    <tr>\n      <th>2</th>\n      <td>100842638</td>\n      <td>301027</td>\n      <td>1</td>\n      <td>20220531</td>\n      <td>0</td>\n      <td>RAFAEL</td>\n      <td>AGUERO</td>\n      <td>MORA</td>\n    </tr>\n    <tr>\n      <th>3</th>\n      <td>100964116</td>\n      <td>104022</td>\n      <td>1</td>\n      <td>20280207</td>\n      <td>0</td>\n      <td>MANUEL</td>\n      <td>DELGADO</td>\n      <td>GUZMAN</td>\n    </tr>\n    <tr>\n      <th>4</th>\n      <td>100986470</td>\n      <td>205012</td>\n      <td>2</td>\n      <td>20220630</td>\n      <td>0</td>\n      <td>MARIA</td>\n      <td>SALAS</td>\n      <td>CHAVARRIA</td>\n    </tr>\n  </tbody>\n</table>\n</div>"
          },
          "metadata": {},
          "execution_count": 5
        }
      ],
      "source": [
        "## Origen de datos: TSE\n",
        "persons = pd.read_csv('data/PADRON_COMPLETO.txt', header=None, encoding='ISO8859-1')\n",
        "persons.columns = ['CEDULA', 'CODELEC', 'SEXO', 'FEC_VENCIMIENTO', 'JUNTA', 'NOMBRE', '1ER_APELLIDO', '2DO_APELLIDO']\n",
        "persons.head()"
      ]
    },
    {
      "cell_type": "code",
      "execution_count": 6,
      "metadata": {},
      "outputs": [
        {
          "output_type": "execute_result",
          "data": {
            "text/plain": "      CEDULA  CODELEC  SEXO  FEC_VENCIMIENTO  JUNTA  \\\n0  100339724   109007     1         20231119      0   \n1  101300341   109007     2         20220228      0   \n2  101510294   109007     2         20260406      0   \n3  101610291   109007     2         20250710      0   \n4  101670103   109007     1         20280207      0   \n\n                           NOMBRE                1ER_APELLIDO  \\\n0  JOSE                            DELGADO                      \n1  ERMIDA                          SOLIS                        \n2  BERTA                           RAMIREZ                      \n3  ADABERTA                        CORDERO                      \n4  RAFAEL                          CARMONA                      \n\n                 2DO_APELLIDO  ID_UBICACION PROVINCIA   DISTRITO  \\\n0  CORRALES                          109007  SAN JOSE  SANTA ANA   \n1  FALLAS                            109007  SAN JOSE  SANTA ANA   \n2  GUILLEN                           109007  SAN JOSE  SANTA ANA   \n3  JIMENEZ                           109007  SAN JOSE  SANTA ANA   \n4  UMAÑA                             109007  SAN JOSE  SANTA ANA   \n\n                                              CANTON  \n0  PIEDADES                                      ...  \n1  PIEDADES                                      ...  \n2  PIEDADES                                      ...  \n3  PIEDADES                                      ...  \n4  PIEDADES                                      ...  ",
            "text/html": "<div>\n<style scoped>\n    .dataframe tbody tr th:only-of-type {\n        vertical-align: middle;\n    }\n\n    .dataframe tbody tr th {\n        vertical-align: top;\n    }\n\n    .dataframe thead th {\n        text-align: right;\n    }\n</style>\n<table border=\"1\" class=\"dataframe\">\n  <thead>\n    <tr style=\"text-align: right;\">\n      <th></th>\n      <th>CEDULA</th>\n      <th>CODELEC</th>\n      <th>SEXO</th>\n      <th>FEC_VENCIMIENTO</th>\n      <th>JUNTA</th>\n      <th>NOMBRE</th>\n      <th>1ER_APELLIDO</th>\n      <th>2DO_APELLIDO</th>\n      <th>ID_UBICACION</th>\n      <th>PROVINCIA</th>\n      <th>DISTRITO</th>\n      <th>CANTON</th>\n    </tr>\n  </thead>\n  <tbody>\n    <tr>\n      <th>0</th>\n      <td>100339724</td>\n      <td>109007</td>\n      <td>1</td>\n      <td>20231119</td>\n      <td>0</td>\n      <td>JOSE</td>\n      <td>DELGADO</td>\n      <td>CORRALES</td>\n      <td>109007</td>\n      <td>SAN JOSE</td>\n      <td>SANTA ANA</td>\n      <td>PIEDADES                                      ...</td>\n    </tr>\n    <tr>\n      <th>1</th>\n      <td>101300341</td>\n      <td>109007</td>\n      <td>2</td>\n      <td>20220228</td>\n      <td>0</td>\n      <td>ERMIDA</td>\n      <td>SOLIS</td>\n      <td>FALLAS</td>\n      <td>109007</td>\n      <td>SAN JOSE</td>\n      <td>SANTA ANA</td>\n      <td>PIEDADES                                      ...</td>\n    </tr>\n    <tr>\n      <th>2</th>\n      <td>101510294</td>\n      <td>109007</td>\n      <td>2</td>\n      <td>20260406</td>\n      <td>0</td>\n      <td>BERTA</td>\n      <td>RAMIREZ</td>\n      <td>GUILLEN</td>\n      <td>109007</td>\n      <td>SAN JOSE</td>\n      <td>SANTA ANA</td>\n      <td>PIEDADES                                      ...</td>\n    </tr>\n    <tr>\n      <th>3</th>\n      <td>101610291</td>\n      <td>109007</td>\n      <td>2</td>\n      <td>20250710</td>\n      <td>0</td>\n      <td>ADABERTA</td>\n      <td>CORDERO</td>\n      <td>JIMENEZ</td>\n      <td>109007</td>\n      <td>SAN JOSE</td>\n      <td>SANTA ANA</td>\n      <td>PIEDADES                                      ...</td>\n    </tr>\n    <tr>\n      <th>4</th>\n      <td>101670103</td>\n      <td>109007</td>\n      <td>1</td>\n      <td>20280207</td>\n      <td>0</td>\n      <td>RAFAEL</td>\n      <td>CARMONA</td>\n      <td>UMAÑA</td>\n      <td>109007</td>\n      <td>SAN JOSE</td>\n      <td>SANTA ANA</td>\n      <td>PIEDADES                                      ...</td>\n    </tr>\n  </tbody>\n</table>\n</div>"
          },
          "metadata": {},
          "execution_count": 6
        }
      ],
      "source": [
        "### Unir data de DISTELEC y PADRON\n",
        "data = persons.merge(location, left_on='CODELEC', right_on='ID_UBICACION')\n",
        "data.head()"
      ]
    },
    {
      "cell_type": "code",
      "execution_count": 7,
      "metadata": {},
      "outputs": [
        {
          "output_type": "execute_result",
          "data": {
            "text/plain": "CEDULA           int64\nSEXO             int64\nNOMBRE          object\n1ER_APELLIDO    object\n2DO_APELLIDO    object\nPROVINCIA       object\nDISTRITO        object\nCANTON          object\ndtype: object"
          },
          "metadata": {},
          "execution_count": 7
        }
      ],
      "source": [
        "## Eliminar data no requerida y agregar columnas requeridas\n",
        "data = data.drop(data.columns[[1, 3, 4, 8]], axis=1)  # df.columns is zero-based pd.Index\n",
        "data.dtypes"
      ]
    },
    {
      "cell_type": "code",
      "execution_count": 8,
      "metadata": {},
      "outputs": [
        {
          "output_type": "execute_result",
          "data": {
            "text/plain": "CEDULA                               int64\nSEXO                              category\nNOMBRE                              object\n1ER_APELLIDO                        object\n2DO_APELLIDO                        object\nPROVINCIA                           object\nDISTRITO                            object\nCANTON                              object\nESTADO                            category\nFECHA_RESULTADO_POSITIVO    datetime64[ns]\nFECHA_RESULTADO_NEGATIVO    datetime64[ns]\nFECHA_FALLECIMIENTO         datetime64[ns]\ndtype: object"
          },
          "metadata": {},
          "execution_count": 8
        }
      ],
      "source": [
        "## Añadir columnas requeridas (Estado['Susceptible', 'Contagiado', 'Recuperado', 'Fallecido'], Fecha resultado positivo, Fecha resultado negativo, Fecha fallecido)\n",
        "data = data.assign(ESTADO='Susceptible', FECHA_RESULTADO_POSITIVO=np.nan, FECHA_RESULTADO_NEGATIVO=np.nan, FECHA_FALLECIMIENTO=np.nan)\n",
        "#data['CEDULA'] = pd.Categorical(data.CEDULA)\n",
        "data['ESTADO'] = pd.Categorical(data.ESTADO)\n",
        "data['FECHA_RESULTADO_POSITIVO'] = pd.to_datetime(data['FECHA_RESULTADO_POSITIVO'])\n",
        "data['FECHA_RESULTADO_NEGATIVO'] = pd.to_datetime(data['FECHA_RESULTADO_NEGATIVO'])\n",
        "data['FECHA_FALLECIMIENTO'] = pd.to_datetime(data['FECHA_FALLECIMIENTO'])\n",
        "sexo_dic = {1: 'Masculino', 2: 'Femenino'}\n",
        "data['SEXO'] = data['SEXO'].map(sexo_dic)\n",
        "data['SEXO'] = pd.Categorical(data.SEXO)\n",
        "data.dtypes"
      ]
    },
    {
      "cell_type": "code",
      "execution_count": 9,
      "metadata": {},
      "outputs": [
        {
          "output_type": "execute_result",
          "data": {
            "text/plain": "             CEDULA\ncount  3.469004e+06\nmean   3.136486e+08\nstd    2.294382e+08\nmin    1.003397e+08\n25%    1.130509e+08\n50%    2.062905e+08\n75%    5.029701e+08\nmax    9.014408e+08",
            "text/html": "<div>\n<style scoped>\n    .dataframe tbody tr th:only-of-type {\n        vertical-align: middle;\n    }\n\n    .dataframe tbody tr th {\n        vertical-align: top;\n    }\n\n    .dataframe thead th {\n        text-align: right;\n    }\n</style>\n<table border=\"1\" class=\"dataframe\">\n  <thead>\n    <tr style=\"text-align: right;\">\n      <th></th>\n      <th>CEDULA</th>\n    </tr>\n  </thead>\n  <tbody>\n    <tr>\n      <th>count</th>\n      <td>3.469004e+06</td>\n    </tr>\n    <tr>\n      <th>mean</th>\n      <td>3.136486e+08</td>\n    </tr>\n    <tr>\n      <th>std</th>\n      <td>2.294382e+08</td>\n    </tr>\n    <tr>\n      <th>min</th>\n      <td>1.003397e+08</td>\n    </tr>\n    <tr>\n      <th>25%</th>\n      <td>1.130509e+08</td>\n    </tr>\n    <tr>\n      <th>50%</th>\n      <td>2.062905e+08</td>\n    </tr>\n    <tr>\n      <th>75%</th>\n      <td>5.029701e+08</td>\n    </tr>\n    <tr>\n      <th>max</th>\n      <td>9.014408e+08</td>\n    </tr>\n  </tbody>\n</table>\n</div>"
          },
          "metadata": {},
          "execution_count": 9
        }
      ],
      "source": [
        "data.describe()"
      ]
    },
    {
      "cell_type": "code",
      "execution_count": 10,
      "metadata": {},
      "outputs": [
        {
          "output_type": "execute_result",
          "data": {
            "text/plain": "      CEDULA       SEXO                          NOMBRE  \\\n0  100339724  Masculino  JOSE                             \n1  101300341   Femenino  ERMIDA                           \n2  101510294   Femenino  BERTA                            \n3  101610291   Femenino  ADABERTA                         \n4  101670103  Masculino  RAFAEL                           \n\n                 1ER_APELLIDO                2DO_APELLIDO PROVINCIA  \\\n0  DELGADO                     CORRALES                    SAN JOSE   \n1  SOLIS                       FALLAS                      SAN JOSE   \n2  RAMIREZ                     GUILLEN                     SAN JOSE   \n3  CORDERO                     JIMENEZ                     SAN JOSE   \n4  CARMONA                     UMAÑA                       SAN JOSE   \n\n    DISTRITO                                             CANTON       ESTADO  \\\n0  SANTA ANA  PIEDADES                                      ...  Susceptible   \n1  SANTA ANA  PIEDADES                                      ...  Susceptible   \n2  SANTA ANA  PIEDADES                                      ...  Susceptible   \n3  SANTA ANA  PIEDADES                                      ...  Susceptible   \n4  SANTA ANA  PIEDADES                                      ...  Susceptible   \n\n  FECHA_RESULTADO_POSITIVO FECHA_RESULTADO_NEGATIVO FECHA_FALLECIMIENTO  \n0                      NaT                      NaT                 NaT  \n1                      NaT                      NaT                 NaT  \n2                      NaT                      NaT                 NaT  \n3                      NaT                      NaT                 NaT  \n4                      NaT                      NaT                 NaT  ",
            "text/html": "<div>\n<style scoped>\n    .dataframe tbody tr th:only-of-type {\n        vertical-align: middle;\n    }\n\n    .dataframe tbody tr th {\n        vertical-align: top;\n    }\n\n    .dataframe thead th {\n        text-align: right;\n    }\n</style>\n<table border=\"1\" class=\"dataframe\">\n  <thead>\n    <tr style=\"text-align: right;\">\n      <th></th>\n      <th>CEDULA</th>\n      <th>SEXO</th>\n      <th>NOMBRE</th>\n      <th>1ER_APELLIDO</th>\n      <th>2DO_APELLIDO</th>\n      <th>PROVINCIA</th>\n      <th>DISTRITO</th>\n      <th>CANTON</th>\n      <th>ESTADO</th>\n      <th>FECHA_RESULTADO_POSITIVO</th>\n      <th>FECHA_RESULTADO_NEGATIVO</th>\n      <th>FECHA_FALLECIMIENTO</th>\n    </tr>\n  </thead>\n  <tbody>\n    <tr>\n      <th>0</th>\n      <td>100339724</td>\n      <td>Masculino</td>\n      <td>JOSE</td>\n      <td>DELGADO</td>\n      <td>CORRALES</td>\n      <td>SAN JOSE</td>\n      <td>SANTA ANA</td>\n      <td>PIEDADES                                      ...</td>\n      <td>Susceptible</td>\n      <td>NaT</td>\n      <td>NaT</td>\n      <td>NaT</td>\n    </tr>\n    <tr>\n      <th>1</th>\n      <td>101300341</td>\n      <td>Femenino</td>\n      <td>ERMIDA</td>\n      <td>SOLIS</td>\n      <td>FALLAS</td>\n      <td>SAN JOSE</td>\n      <td>SANTA ANA</td>\n      <td>PIEDADES                                      ...</td>\n      <td>Susceptible</td>\n      <td>NaT</td>\n      <td>NaT</td>\n      <td>NaT</td>\n    </tr>\n    <tr>\n      <th>2</th>\n      <td>101510294</td>\n      <td>Femenino</td>\n      <td>BERTA</td>\n      <td>RAMIREZ</td>\n      <td>GUILLEN</td>\n      <td>SAN JOSE</td>\n      <td>SANTA ANA</td>\n      <td>PIEDADES                                      ...</td>\n      <td>Susceptible</td>\n      <td>NaT</td>\n      <td>NaT</td>\n      <td>NaT</td>\n    </tr>\n    <tr>\n      <th>3</th>\n      <td>101610291</td>\n      <td>Femenino</td>\n      <td>ADABERTA</td>\n      <td>CORDERO</td>\n      <td>JIMENEZ</td>\n      <td>SAN JOSE</td>\n      <td>SANTA ANA</td>\n      <td>PIEDADES                                      ...</td>\n      <td>Susceptible</td>\n      <td>NaT</td>\n      <td>NaT</td>\n      <td>NaT</td>\n    </tr>\n    <tr>\n      <th>4</th>\n      <td>101670103</td>\n      <td>Masculino</td>\n      <td>RAFAEL</td>\n      <td>CARMONA</td>\n      <td>UMAÑA</td>\n      <td>SAN JOSE</td>\n      <td>SANTA ANA</td>\n      <td>PIEDADES                                      ...</td>\n      <td>Susceptible</td>\n      <td>NaT</td>\n      <td>NaT</td>\n      <td>NaT</td>\n    </tr>\n  </tbody>\n</table>\n</div>"
          },
          "metadata": {},
          "execution_count": 10
        }
      ],
      "source": [
        "data.head()"
      ]
    },
    {
      "cell_type": "code",
      "execution_count": 11,
      "metadata": {},
      "outputs": [
        {
          "output_type": "execute_result",
          "data": {
            "text/plain": "            CEDULA       SEXO                          NOMBRE  \\\n3106759  206940116  Masculino  DIEGO GERARDO                    \n\n                       1ER_APELLIDO                2DO_APELLIDO PROVINCIA  \\\n3106759  ARCE                        ESPINOZA                    ALAJUELA   \n\n        DISTRITO                                             CANTON  \\\n3106759   GRECIA  PUENTE DE PIEDRA                              ...   \n\n              ESTADO FECHA_RESULTADO_POSITIVO FECHA_RESULTADO_NEGATIVO  \\\n3106759  Susceptible                      NaT                      NaT   \n\n        FECHA_FALLECIMIENTO  \n3106759                 NaT  ",
            "text/html": "<div>\n<style scoped>\n    .dataframe tbody tr th:only-of-type {\n        vertical-align: middle;\n    }\n\n    .dataframe tbody tr th {\n        vertical-align: top;\n    }\n\n    .dataframe thead th {\n        text-align: right;\n    }\n</style>\n<table border=\"1\" class=\"dataframe\">\n  <thead>\n    <tr style=\"text-align: right;\">\n      <th></th>\n      <th>CEDULA</th>\n      <th>SEXO</th>\n      <th>NOMBRE</th>\n      <th>1ER_APELLIDO</th>\n      <th>2DO_APELLIDO</th>\n      <th>PROVINCIA</th>\n      <th>DISTRITO</th>\n      <th>CANTON</th>\n      <th>ESTADO</th>\n      <th>FECHA_RESULTADO_POSITIVO</th>\n      <th>FECHA_RESULTADO_NEGATIVO</th>\n      <th>FECHA_FALLECIMIENTO</th>\n    </tr>\n  </thead>\n  <tbody>\n    <tr>\n      <th>3106759</th>\n      <td>206940116</td>\n      <td>Masculino</td>\n      <td>DIEGO GERARDO</td>\n      <td>ARCE</td>\n      <td>ESPINOZA</td>\n      <td>ALAJUELA</td>\n      <td>GRECIA</td>\n      <td>PUENTE DE PIEDRA                              ...</td>\n      <td>Susceptible</td>\n      <td>NaT</td>\n      <td>NaT</td>\n      <td>NaT</td>\n    </tr>\n  </tbody>\n</table>\n</div>"
          },
          "metadata": {},
          "execution_count": 11
        }
      ],
      "source": [
        "data.query('CEDULA == \"206940116\"')"
      ]
    },
    {
      "cell_type": "code",
      "execution_count": 12,
      "metadata": {},
      "outputs": [],
      "source": [
        "## Obtener dataframe de recuperados utilizando un sesgo de 14 días a la derecha\n",
        "def get_recovered_people(current_day, df):\n",
        "    #sick_duration = np.arange(start = 7, stop = 22)\n",
        "    return df.loc[df.FECHA_RESULTADO_NEGATIVO == current_day]"
      ]
    },
    {
      "cell_type": "code",
      "execution_count": 15,
      "metadata": {},
      "outputs": [],
      "source": [
        "## Obtener dataframe de contagiados utilizando un aleatorio entre 0-1000 para cada día\n",
        "sick_duration = np.arange(start = 7, stop = 22)\n",
        "def get_random_recovery_day(current_day):\n",
        "    probability = [.02, .02, .03, .03, .03, .03, .03, .5, .06, .06, .04, .04, .04, .04, .03]\n",
        "    random_days = np.random.choice(a = sick_duration, p = probability, size = 1)[0].astype(np.float)\n",
        "    return current_day+timedelta(days=random_days)\n",
        "\n",
        "def get_sick_people(current_day, df):\n",
        "    x = np.random.randint(1000)\n",
        "    result = df.sample(n = x)\n",
        "    result['FECHA_RESULTADO_POSITIVO'].fillna(current_day, inplace = True)\n",
        "    #result['FECHA_RESULTADO_NEGATIVO'].fillna(current_day+timedelta(days=get_random_recovery_day()), inplace = True)\n",
        "    result['FECHA_RESULTADO_NEGATIVO'] = result['FECHA_RESULTADO_NEGATIVO'].apply(lambda a: get_random_recovery_day(current_day), axis=1)\n",
        "    # set random weight based on parameters\n",
        "    #result['FECHA_RESULTADO_NEGATIVO'] = df.apply(\n",
        "    #    lambda x: current_day+timedelta(days=get_random_recovery_day()), axis = 1\n",
        "    #)\n",
        "    return result"
      ]
    },
    {
      "cell_type": "code",
      "execution_count": 16,
      "metadata": {},
      "outputs": [],
      "source": [
        "## Obtener dataframe de muertos utilizando una mortalidad del 0.7% aprox de los contagidos\n",
        "def get_dead_people(current_day, df):\n",
        "    result = df.sample(frac = 0.007)\n",
        "    result['FECHA_FALLECIMIENTO'].fillna(current_day, inplace = True)\n",
        "    return result"
      ]
    },
    {
      "cell_type": "code",
      "execution_count": 17,
      "metadata": {
        "tags": []
      },
      "outputs": [
        {
          "output_type": "stream",
          "name": "stdout",
          "text": "Calculando datos para:2020-01-01\n"
        },
        {
          "output_type": "error",
          "ename": "TypeError",
          "evalue": "<lambda>() got an unexpected keyword argument 'axis'",
          "traceback": [
            "\u001b[0;31m---------------------------------------------------------------------------\u001b[0m",
            "\u001b[0;31mTypeError\u001b[0m                                 Traceback (most recent call last)",
            "\u001b[0;32m<ipython-input-17-d7595c9788fd>\u001b[0m in \u001b[0;36m<module>\u001b[0;34m\u001b[0m\n\u001b[1;32m     14\u001b[0m \u001b[0;34m\u001b[0m\u001b[0m\n\u001b[1;32m     15\u001b[0m     \u001b[0;31m## Obtener cantidad de enfermos del dia\u001b[0m\u001b[0;34m\u001b[0m\u001b[0;34m\u001b[0m\u001b[0;34m\u001b[0m\u001b[0m\n\u001b[0;32m---> 16\u001b[0;31m     \u001b[0msick_people_df\u001b[0m \u001b[0;34m=\u001b[0m \u001b[0mget_sick_people\u001b[0m\u001b[0;34m(\u001b[0m\u001b[0mday\u001b[0m\u001b[0;34m,\u001b[0m \u001b[0mdata\u001b[0m\u001b[0;34m)\u001b[0m\u001b[0;34m\u001b[0m\u001b[0;34m\u001b[0m\u001b[0m\n\u001b[0m\u001b[1;32m     17\u001b[0m     \u001b[0mtotal_sick_people\u001b[0m \u001b[0;34m=\u001b[0m \u001b[0mtotal_sick_people\u001b[0m\u001b[0;34m.\u001b[0m\u001b[0mappend\u001b[0m\u001b[0;34m(\u001b[0m\u001b[0msick_people_df\u001b[0m\u001b[0;34m,\u001b[0m \u001b[0mignore_index\u001b[0m\u001b[0;34m=\u001b[0m\u001b[0;32mTrue\u001b[0m\u001b[0;34m)\u001b[0m\u001b[0;34m\u001b[0m\u001b[0;34m\u001b[0m\u001b[0m\n\u001b[1;32m     18\u001b[0m     \u001b[0mdata\u001b[0m\u001b[0;34m.\u001b[0m\u001b[0mdrop\u001b[0m\u001b[0;34m(\u001b[0m\u001b[0msick_people_df\u001b[0m\u001b[0;34m.\u001b[0m\u001b[0mindex\u001b[0m\u001b[0;34m)\u001b[0m\u001b[0;34m\u001b[0m\u001b[0;34m\u001b[0m\u001b[0m\n",
            "\u001b[0;32m<ipython-input-15-01f35de2059e>\u001b[0m in \u001b[0;36mget_sick_people\u001b[0;34m(current_day, df)\u001b[0m\n\u001b[1;32m     11\u001b[0m     \u001b[0mresult\u001b[0m\u001b[0;34m[\u001b[0m\u001b[0;34m'FECHA_RESULTADO_POSITIVO'\u001b[0m\u001b[0;34m]\u001b[0m\u001b[0;34m.\u001b[0m\u001b[0mfillna\u001b[0m\u001b[0;34m(\u001b[0m\u001b[0mcurrent_day\u001b[0m\u001b[0;34m,\u001b[0m \u001b[0minplace\u001b[0m \u001b[0;34m=\u001b[0m \u001b[0;32mTrue\u001b[0m\u001b[0;34m)\u001b[0m\u001b[0;34m\u001b[0m\u001b[0;34m\u001b[0m\u001b[0m\n\u001b[1;32m     12\u001b[0m     \u001b[0;31m#result['FECHA_RESULTADO_NEGATIVO'].fillna(current_day+timedelta(days=get_random_recovery_day()), inplace = True)\u001b[0m\u001b[0;34m\u001b[0m\u001b[0;34m\u001b[0m\u001b[0;34m\u001b[0m\u001b[0m\n\u001b[0;32m---> 13\u001b[0;31m     \u001b[0mresult\u001b[0m\u001b[0;34m[\u001b[0m\u001b[0;34m'FECHA_RESULTADO_NEGATIVO'\u001b[0m\u001b[0;34m]\u001b[0m \u001b[0;34m=\u001b[0m \u001b[0mresult\u001b[0m\u001b[0;34m[\u001b[0m\u001b[0;34m'FECHA_RESULTADO_NEGATIVO'\u001b[0m\u001b[0;34m]\u001b[0m\u001b[0;34m.\u001b[0m\u001b[0mapply\u001b[0m\u001b[0;34m(\u001b[0m\u001b[0;32mlambda\u001b[0m \u001b[0ma\u001b[0m\u001b[0;34m:\u001b[0m \u001b[0mget_random_recovery_day\u001b[0m\u001b[0;34m(\u001b[0m\u001b[0mcurrent_day\u001b[0m\u001b[0;34m)\u001b[0m\u001b[0;34m,\u001b[0m \u001b[0maxis\u001b[0m\u001b[0;34m=\u001b[0m\u001b[0;36m1\u001b[0m\u001b[0;34m)\u001b[0m\u001b[0;34m\u001b[0m\u001b[0;34m\u001b[0m\u001b[0m\n\u001b[0m\u001b[1;32m     14\u001b[0m     \u001b[0;31m# set random weight based on parameters\u001b[0m\u001b[0;34m\u001b[0m\u001b[0;34m\u001b[0m\u001b[0;34m\u001b[0m\u001b[0m\n\u001b[1;32m     15\u001b[0m     \u001b[0;31m#result['FECHA_RESULTADO_NEGATIVO'] = df.apply(\u001b[0m\u001b[0;34m\u001b[0m\u001b[0;34m\u001b[0m\u001b[0;34m\u001b[0m\u001b[0m\n",
            "\u001b[0;32m~/.pyenv/versions/anaconda3-5.3.1/lib/python3.7/site-packages/pandas/core/series.py\u001b[0m in \u001b[0;36mapply\u001b[0;34m(self, func, convert_dtype, args, **kwds)\u001b[0m\n\u001b[1;32m   3846\u001b[0m             \u001b[0;32melse\u001b[0m\u001b[0;34m:\u001b[0m\u001b[0;34m\u001b[0m\u001b[0;34m\u001b[0m\u001b[0m\n\u001b[1;32m   3847\u001b[0m                 \u001b[0mvalues\u001b[0m \u001b[0;34m=\u001b[0m \u001b[0mself\u001b[0m\u001b[0;34m.\u001b[0m\u001b[0mastype\u001b[0m\u001b[0;34m(\u001b[0m\u001b[0mobject\u001b[0m\u001b[0;34m)\u001b[0m\u001b[0;34m.\u001b[0m\u001b[0mvalues\u001b[0m\u001b[0;34m\u001b[0m\u001b[0;34m\u001b[0m\u001b[0m\n\u001b[0;32m-> 3848\u001b[0;31m                 \u001b[0mmapped\u001b[0m \u001b[0;34m=\u001b[0m \u001b[0mlib\u001b[0m\u001b[0;34m.\u001b[0m\u001b[0mmap_infer\u001b[0m\u001b[0;34m(\u001b[0m\u001b[0mvalues\u001b[0m\u001b[0;34m,\u001b[0m \u001b[0mf\u001b[0m\u001b[0;34m,\u001b[0m \u001b[0mconvert\u001b[0m\u001b[0;34m=\u001b[0m\u001b[0mconvert_dtype\u001b[0m\u001b[0;34m)\u001b[0m\u001b[0;34m\u001b[0m\u001b[0;34m\u001b[0m\u001b[0m\n\u001b[0m\u001b[1;32m   3849\u001b[0m \u001b[0;34m\u001b[0m\u001b[0m\n\u001b[1;32m   3850\u001b[0m         \u001b[0;32mif\u001b[0m \u001b[0mlen\u001b[0m\u001b[0;34m(\u001b[0m\u001b[0mmapped\u001b[0m\u001b[0;34m)\u001b[0m \u001b[0;32mand\u001b[0m \u001b[0misinstance\u001b[0m\u001b[0;34m(\u001b[0m\u001b[0mmapped\u001b[0m\u001b[0;34m[\u001b[0m\u001b[0;36m0\u001b[0m\u001b[0;34m]\u001b[0m\u001b[0;34m,\u001b[0m \u001b[0mSeries\u001b[0m\u001b[0;34m)\u001b[0m\u001b[0;34m:\u001b[0m\u001b[0;34m\u001b[0m\u001b[0;34m\u001b[0m\u001b[0m\n",
            "\u001b[0;32mpandas/_libs/lib.pyx\u001b[0m in \u001b[0;36mpandas._libs.lib.map_infer\u001b[0;34m()\u001b[0m\n",
            "\u001b[0;32m~/.pyenv/versions/anaconda3-5.3.1/lib/python3.7/site-packages/pandas/core/series.py\u001b[0m in \u001b[0;36mf\u001b[0;34m(x)\u001b[0m\n\u001b[1;32m   3831\u001b[0m \u001b[0;34m\u001b[0m\u001b[0m\n\u001b[1;32m   3832\u001b[0m             \u001b[0;32mdef\u001b[0m \u001b[0mf\u001b[0m\u001b[0;34m(\u001b[0m\u001b[0mx\u001b[0m\u001b[0;34m)\u001b[0m\u001b[0;34m:\u001b[0m\u001b[0;34m\u001b[0m\u001b[0;34m\u001b[0m\u001b[0m\n\u001b[0;32m-> 3833\u001b[0;31m                 \u001b[0;32mreturn\u001b[0m \u001b[0mfunc\u001b[0m\u001b[0;34m(\u001b[0m\u001b[0mx\u001b[0m\u001b[0;34m,\u001b[0m \u001b[0;34m*\u001b[0m\u001b[0margs\u001b[0m\u001b[0;34m,\u001b[0m \u001b[0;34m**\u001b[0m\u001b[0mkwds\u001b[0m\u001b[0;34m)\u001b[0m\u001b[0;34m\u001b[0m\u001b[0;34m\u001b[0m\u001b[0m\n\u001b[0m\u001b[1;32m   3834\u001b[0m \u001b[0;34m\u001b[0m\u001b[0m\n\u001b[1;32m   3835\u001b[0m         \u001b[0;32melse\u001b[0m\u001b[0;34m:\u001b[0m\u001b[0;34m\u001b[0m\u001b[0;34m\u001b[0m\u001b[0m\n",
            "\u001b[0;31mTypeError\u001b[0m: <lambda>() got an unexpected keyword argument 'axis'"
          ]
        }
      ],
      "source": [
        "# Iterar entre los 365 dias del año\n",
        "start_date = date(2020, 1, 1)\n",
        "end_date = date(2020, 2, 1)\n",
        "daterange = pd.date_range(start_date, end_date)\n",
        "\n",
        "# Crear dataframes en blanco\n",
        "total_dead_people = pd.DataFrame(data=None, columns=data.columns)\n",
        "total_sick_people = pd.DataFrame(data=None, columns=data.columns)\n",
        "total_recovered_people = pd.DataFrame(data=None, columns=data.columns)\n",
        "\n",
        "# Generar reportes de contagiados, muertes y recuperados\n",
        "for day in daterange:\n",
        "    print (\"Calculando datos para:\" + day.strftime(\"%Y-%m-%d\"))\n",
        "\n",
        "    ## Obtener cantidad de enfermos del dia\n",
        "    sick_people_df = get_sick_people(day, data)\n",
        "    total_sick_people = total_sick_people.append(sick_people_df, ignore_index=True)\n",
        "    data.drop(sick_people_df.index)\n",
        "\n",
        "    ## Obtener recuperados y volver a unir al data\n",
        "    recovered_people_df = get_recovered_people(day, total_sick_people)\n",
        "    total_recovered_people = total_recovered_people.append(recovered_people_df, ignore_index=True)\n",
        "    data.append(recovered_people_df, ignore_index=True)\n",
        "\n",
        "    ## Obtener cantidad de muertos del total de enfermos\n",
        "    dead_people_df = get_dead_people(day, total_sick_people)\n",
        "    total_sick_people.drop(dead_people_df.index)\n",
        "\n",
        "    day_resume = sick_people_df.copy()\n",
        "    day_resume = day_resume.append(recovered_people_df, ignore_index=True)\n",
        "    day_resume = day_resume.append(dead_people_df, ignore_index=True)\n",
        "\n",
        "    day_resume.to_csv('results/resume' + day.strftime(\"%Y-%m-%d\") + '.csv', index = True)\n",
        "    total_sick_people.to_csv('results/total_sick_people' + day.strftime(\"%Y-%m-%d\") + '.csv', index = True)\n",
        "\n",
        "#data.append(total_sick_people, ignore_index=True)\n",
        "#data.append(total_sick_people, ignore_index=True)"
      ]
    },
    {
      "cell_type": "markdown",
      "metadata": {},
      "source": [
        "## Referencias\n",
        "https://www.bbc.com/mundo/noticias-51708029"
      ]
    }
  ],
  "metadata": {
    "kernelspec": {
      "name": "python_defaultSpec_1597624074965",
      "display_name": "Python 3.7.2 64-bit ('.pyenv': pyenv)",
      "language": "python"
    },
    "language_info": {
      "mimetype": "text/x-python",
      "nbconvert_exporter": "python",
      "name": "python",
      "pygments_lexer": "ipython3",
      "version": "3.7.2-final",
      "file_extension": ".py",
      "codemirror_mode": {
        "version": 3,
        "name": "ipython"
      }
    },
    "toc": {
      "nav_menu": {},
      "number_sections": true,
      "sideBar": true,
      "skip_h1_title": false,
      "base_numbering": 1,
      "title_cell": "Table of Contents",
      "title_sidebar": "Contents",
      "toc_cell": false,
      "toc_position": {},
      "toc_section_display": true,
      "toc_window_display": false
    }
  },
  "nbformat": 4,
  "nbformat_minor": 2
}